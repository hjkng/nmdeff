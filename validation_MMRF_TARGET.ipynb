{
 "cells": [
  {
   "cell_type": "markdown",
   "id": "7e31cc97-85cc-4a77-88a4-cf839d402d15",
   "metadata": {},
   "source": [
    "### Validation using an independent dataset (MMRF-TARGET)"
   ]
  },
  {
   "cell_type": "code",
   "execution_count": 1,
   "id": "e61425d0-764d-4a47-b0ef-53103391b6ea",
   "metadata": {},
   "outputs": [],
   "source": [
    "import pickle\n",
    "import pandas as pd\n",
    "import numpy as np\n",
    "from scipy import stats\n",
    "from sklearn.ensemble import RandomForestRegressor"
   ]
  },
  {
   "cell_type": "code",
   "execution_count": 2,
   "id": "ca7c16f6-f435-493b-940c-8cf21de92283",
   "metadata": {},
   "outputs": [
    {
     "data": {
      "text/plain": [
       "(556, 33)"
      ]
     },
     "execution_count": 2,
     "metadata": {},
     "output_type": "execute_result"
    }
   ],
   "source": [
    "# load dataset\n",
    "df= pd.read_csv('./MMRF_TARGET_dataset.csv')\n",
    "df.shape"
   ]
  },
  {
   "cell_type": "code",
   "execution_count": 3,
   "id": "ecec2a99-2483-48db-928c-863b4aa7dcdc",
   "metadata": {},
   "outputs": [
    {
     "data": {
      "text/html": [
       "<div>\n",
       "<style scoped>\n",
       "    .dataframe tbody tr th:only-of-type {\n",
       "        vertical-align: middle;\n",
       "    }\n",
       "\n",
       "    .dataframe tbody tr th {\n",
       "        vertical-align: top;\n",
       "    }\n",
       "\n",
       "    .dataframe thead th {\n",
       "        text-align: right;\n",
       "    }\n",
       "</style>\n",
       "<table border=\"1\" class=\"dataframe\">\n",
       "  <thead>\n",
       "    <tr style=\"text-align: right;\">\n",
       "      <th></th>\n",
       "      <th>downstream_exon_count</th>\n",
       "      <th>last_exon</th>\n",
       "      <th>PTC_to_start_codon</th>\n",
       "      <th>dist_to_stop_codon</th>\n",
       "      <th>PTC_exon_length</th>\n",
       "      <th>PTC_to_intron</th>\n",
       "      <th>upstream_exon_count</th>\n",
       "      <th>mRNA_half_life</th>\n",
       "      <th>50nt_to_last_EJ</th>\n",
       "      <th>LOEUF</th>\n",
       "      <th>AF</th>\n",
       "      <th>5UTR_length</th>\n",
       "      <th>3UTR_length</th>\n",
       "      <th>Transcript_length</th>\n",
       "    </tr>\n",
       "  </thead>\n",
       "  <tbody>\n",
       "    <tr>\n",
       "      <th>0</th>\n",
       "      <td>19</td>\n",
       "      <td>0</td>\n",
       "      <td>4189</td>\n",
       "      <td>4718</td>\n",
       "      <td>990</td>\n",
       "      <td>31</td>\n",
       "      <td>10</td>\n",
       "      <td>315.133085</td>\n",
       "      <td>0</td>\n",
       "      <td>0.557</td>\n",
       "      <td>0.0</td>\n",
       "      <td>349</td>\n",
       "      <td>4719</td>\n",
       "      <td>9257</td>\n",
       "    </tr>\n",
       "  </tbody>\n",
       "</table>\n",
       "</div>"
      ],
      "text/plain": [
       "   downstream_exon_count  last_exon  PTC_to_start_codon  dist_to_stop_codon  \\\n",
       "0                     19          0                4189                4718   \n",
       "\n",
       "   PTC_exon_length  PTC_to_intron  upstream_exon_count  mRNA_half_life  \\\n",
       "0              990             31                   10      315.133085   \n",
       "\n",
       "   50nt_to_last_EJ  LOEUF   AF  5UTR_length  3UTR_length  Transcript_length  \n",
       "0                0  0.557  0.0          349         4719               9257  "
      ]
     },
     "execution_count": 3,
     "metadata": {},
     "output_type": "execute_result"
    }
   ],
   "source": [
    "cols = ['downstream_exon_count', 'last_exon', 'PTC_to_start_codon',\n",
    "        'dist_to_stop_codon', 'PTC_exon_length', 'PTC_to_intron','upstream_exon_count',\n",
    "        'mRNA_half_life','50nt_to_last_EJ','LOEUF', 'AF', '5UTR_length', '3UTR_length', 'Transcript_length']\n",
    "\n",
    "df[cols].head(1)"
   ]
  },
  {
   "cell_type": "code",
   "execution_count": 4,
   "id": "adfbb394-b4f6-4ff1-a7b8-f4f21565a1f4",
   "metadata": {},
   "outputs": [
    {
     "data": {
      "text/plain": [
       "downstream_exon_count     0\n",
       "last_exon                 0\n",
       "PTC_to_start_codon        0\n",
       "dist_to_stop_codon        0\n",
       "PTC_exon_length           0\n",
       "PTC_to_intron             0\n",
       "upstream_exon_count       0\n",
       "mRNA_half_life            0\n",
       "50nt_to_last_EJ           0\n",
       "LOEUF                    74\n",
       "AF                        0\n",
       "5UTR_length               0\n",
       "3UTR_length               0\n",
       "Transcript_length         0\n",
       "dtype: int64"
      ]
     },
     "execution_count": 4,
     "metadata": {},
     "output_type": "execute_result"
    }
   ],
   "source": [
    "df[cols].isnull().sum()"
   ]
  },
  {
   "cell_type": "code",
   "execution_count": 5,
   "id": "b73281cd-9ccf-4808-bf54-41779d6b27e6",
   "metadata": {},
   "outputs": [
    {
     "data": {
      "text/plain": [
       "(482, 33)"
      ]
     },
     "execution_count": 5,
     "metadata": {},
     "output_type": "execute_result"
    }
   ],
   "source": [
    "df = df.loc[df['LOEUF'].notnull()].reset_index(drop=True)\n",
    "df.shape"
   ]
  },
  {
   "cell_type": "code",
   "execution_count": 6,
   "id": "20c1512a-4a74-4343-9d12-e1e5ae4d69f3",
   "metadata": {},
   "outputs": [],
   "source": [
    "regr = pickle.load(open('./nmd_eff_predictor', 'rb'))\n",
    "\n",
    "def predict_NMD_efficiency(downstream_exon_count:int, last_exon:int, PTC_to_start_codon:int, \n",
    "                           dist_to_stop_codon:int, PTC_exon_length:int, PTC_to_intron:int, upstream_exon_count:int, \n",
    "                           mRNA_half_life:float, c50nt_to_last_EJ:int, LOEUF:float, AF:float,\n",
    "                           UTR5_length:int, UTR3_length:int, Transcript_length:int) -> float:\n",
    "    \n",
    "    input_value =[[downstream_exon_count, last_exon, PTC_to_start_codon,\n",
    "                   dist_to_stop_codon, PTC_exon_length, PTC_to_intron, upstream_exon_count,\n",
    "                   mRNA_half_life, c50nt_to_last_EJ, LOEUF, AF,\n",
    "                   UTR5_length, UTR3_length, Transcript_length]]\n",
    "    \n",
    "    assert sum([np.isnan(value) for value in input_value[0]]) == 0, 'Replace NaN value'\n",
    "    \n",
    "    pred = regr.predict(input_value)[0]\n",
    "    \n",
    "    return pred\n",
    "\n",
    "\n",
    "def predict_NMD_efficiency_df(examples):\n",
    "    df = pd.DataFrame(examples)\n",
    "\n",
    "    assert df.isnull().sum().sum() == 0, 'Replace NaN value'\n",
    "\n",
    "    pred = regr.predict(df)\n",
    "\n",
    "    return pred"
   ]
  },
  {
   "cell_type": "code",
   "execution_count": 7,
   "id": "27b50034-10b2-48ad-a493-31b291a3196c",
   "metadata": {},
   "outputs": [
    {
     "name": "stdout",
     "output_type": "stream",
     "text": [
      "Pearson R : 0.46692101222307253\n",
      "P-value :  1.8041235831646276e-27\n"
     ]
    }
   ],
   "source": [
    "pred = regr.predict(df[cols])\n",
    "c, p = stats.pearsonr(pred, df['NMD_efficiency'])\n",
    "print(\"Pearson R :\" , c)\n",
    "print(\"P-value : \" , p)"
   ]
  }
 ],
 "metadata": {
  "kernelspec": {
   "display_name": "Python 3 (ipykernel)",
   "language": "python",
   "name": "python3"
  },
  "language_info": {
   "codemirror_mode": {
    "name": "ipython",
    "version": 3
   },
   "file_extension": ".py",
   "mimetype": "text/x-python",
   "name": "python",
   "nbconvert_exporter": "python",
   "pygments_lexer": "ipython3",
   "version": "3.9.13"
  }
 },
 "nbformat": 4,
 "nbformat_minor": 5
}
