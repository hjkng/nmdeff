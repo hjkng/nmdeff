{
 "cells": [
  {
   "cell_type": "markdown",
   "id": "35e7b3a1",
   "metadata": {},
   "source": [
    "### NMD efficiency Predictor upon RandomForestRegressor"
   ]
  },
  {
   "cell_type": "code",
   "execution_count": 1,
   "id": "1d7e226c",
   "metadata": {},
   "outputs": [],
   "source": [
    "%matplotlib inline\n",
    "import pickle\n",
    "import pandas as pd\n",
    "import numpy as np\n",
    "from sklearn.ensemble import RandomForestRegressor\n",
    "import warnings\n",
    "warnings.filterwarnings('ignore')"
   ]
  },
  {
   "cell_type": "code",
   "execution_count": 9,
   "id": "f8b25db6",
   "metadata": {},
   "outputs": [],
   "source": [
    "'''\n",
    "Description of columns\n",
    "        downstream_exon_count (as Downstream exon count): The number of exons downstream of the PTC\n",
    "        last_exon (as Last exon): 1 if the PTC is located on the last exon; 0 otherwise\n",
    "        PTC_to_start_codon (as Dist PTC to start codon): The distance between the PTC to start codon\n",
    "        dist_to_stop_codon (as Dist PTC to normal stop codon): The distance between the PTC and normal stop codon\n",
    "        PTC_exon_length (as PTC-containing exon length): The length of the PTC-containing exon\n",
    "        PTC_to_intron (as Dist PTC to downstream EJ): The distance between the PTC and downstream exon junction\n",
    "        upstream_exon_count (as Upstream exon count): The number of exons upstream of the PTC\n",
    "        mRNA_half_life (as mRNA half-life): The half-life of mRNA\n",
    "        50nt_to_last_EJ (as Last 50nt penultimate exon): 1 if the PTC is located on the last exon; 0 otherwise\n",
    "        LOEUF (as LOEUF): Gene-level degree of mutational constraints\n",
    "        AF: (as Allele frequency): Allele frequency in gnomAD database\n",
    "        UTR5_length: (as 5'UTR length) : The length of 5'UTR\n",
    "        UTR3_length: (as 3'UTR length) : The length of 3'UTR\n",
    "        Transcript_length: (as Transcript length) : The length of the transcript\n",
    "'''\n",
    "\n",
    "regr = pickle.load(open('./nmd_eff_predictor', 'rb'))\n",
    "\n",
    "def predict_NMD_efficiency(downstream_exon_count:int, last_exon:int, PTC_to_start_codon:int, \n",
    "                           dist_to_stop_codon:int, PTC_exon_length:int, PTC_to_intron:int, upstream_exon_count:int, \n",
    "                           mRNA_half_life:float, c50nt_to_last_EJ:int, LOEUF:float, AF:float,\n",
    "                           UTR5_length:int, UTR3_length:int, Transcript_length:int) -> float:\n",
    "    \n",
    "    input_value =[[downstream_exon_count, last_exon, PTC_to_start_codon,\n",
    "                   dist_to_stop_codon, PTC_exon_length, PTC_to_intron, upstream_exon_count,\n",
    "                   mRNA_half_life, c50nt_to_last_EJ, LOEUF, AF,\n",
    "                   UTR5_length, UTR3_length, Transcript_length]]\n",
    "    \n",
    "    assert sum([np.isnan(value) for value in input_value[0]]) == 0, 'Replace NaN value'\n",
    "    \n",
    "    pred = regr.predict(input_value)[0]\n",
    "    \n",
    "    return pred\n",
    "\n",
    "\n",
    "def predict_NMD_efficiency_df(examples):\n",
    "    df = pd.DataFrame(examples)\n",
    "\n",
    "    assert df.isnull().sum().sum() == 0, 'Replace NaN value'\n",
    "\n",
    "    pred = regr.predict(df)\n",
    "\n",
    "    return pred\n",
    "\n"
   ]
  },
  {
   "cell_type": "markdown",
   "id": "32c7f62a",
   "metadata": {},
   "source": [
    "### Predict the NMD efficientcy with a single instance"
   ]
  },
  {
   "cell_type": "code",
   "execution_count": 4,
   "id": "d21fd558",
   "metadata": {},
   "outputs": [
    {
     "data": {
      "text/plain": [
       "0.8102955147698261"
      ]
     },
     "execution_count": 4,
     "metadata": {},
     "output_type": "execute_result"
    }
   ],
   "source": [
    "predict_NMD_efficiency(3,        # downstream_exon_count: int\n",
    "                       0,        # last_exon: int\n",
    "                       2625,     # PTC_to_start_codon: int\n",
    "                       963,      # dist_to_stop_codon: int\n",
    "                       1399,     # PTC_exon_length: int\n",
    "                       586,      # PTC_to_intron: int: int\n",
    "                       15,       # upstream_exon_count\n",
    "                       332.338,  # mRNA_half_life: float\n",
    "                       0,        # 50nt_to_last_EJ: int\n",
    "                       0.25,     # LOEUF: float\n",
    "                       0.000016, # AF: float\n",
    "                       125,      # UTR5_length : Int\n",
    "                       964,      # UTR3_length : Int\n",
    "                       3714      # Transcript_length : Int   \n",
    "                      ) \n"
   ]
  },
  {
   "cell_type": "markdown",
   "id": "1573660c",
   "metadata": {},
   "source": [
    "### Predict the NMD efficientcy with a dataset containing multiple instances"
   ]
  },
  {
   "cell_type": "code",
   "execution_count": 10,
   "id": "224d2cc4",
   "metadata": {},
   "outputs": [
    {
     "name": "stdout",
     "output_type": "stream",
     "text": [
      "   0   1     2    3     4    5   6           7   8      9         10   11  \\\n",
      "0   3   0  2625  963  1399  586  15  332.338457   0  0.250  0.000016  125   \n",
      "1   4   0  2337  579    86   29  20  333.745170   0  0.117  0.000015  123   \n",
      "\n",
      "    12    13  \n",
      "0  964  3714  \n",
      "1  580  3040  \n"
     ]
    },
    {
     "data": {
      "text/plain": [
       "array([0.81029551, 1.69715546])"
      ]
     },
     "execution_count": 10,
     "metadata": {},
     "output_type": "execute_result"
    }
   ],
   "source": [
    "example_dataset= [[3, 0, 2625, 963, 1399, 586, 15, 332.338457, 0, 0.25, 0.000016, 125, 964, 3714],\n",
    "                  [4, 0, 2337, 579, 86, 29, 20, 333.74517, 0, 0.117, 0.000015, 123, 580, 3040]]\n",
    "\n",
    "predict_NMD_efficiency_df(example_dataset)\n",
    "\n"
   ]
  }
 ],
 "metadata": {
  "kernelspec": {
   "display_name": "Python 3 (ipykernel)",
   "language": "python",
   "name": "python3"
  },
  "language_info": {
   "codemirror_mode": {
    "name": "ipython",
    "version": 3
   },
   "file_extension": ".py",
   "mimetype": "text/x-python",
   "name": "python",
   "nbconvert_exporter": "python",
   "pygments_lexer": "ipython3",
   "version": "3.9.13"
  }
 },
 "nbformat": 4,
 "nbformat_minor": 5
}
