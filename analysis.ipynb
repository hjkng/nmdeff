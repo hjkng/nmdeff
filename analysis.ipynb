{
 "cells": [
  {
   "cell_type": "code",
   "execution_count": 1,
   "id": "d1c37c68",
   "metadata": {},
   "outputs": [],
   "source": [
    "import pandas as pd\n",
    "import numpy as np\n",
    "import pickle\n",
    "from scipy import stats\n",
    "from sklearn.model_selection import cross_val_score\n",
    "from sklearn.model_selection import train_test_split\n",
    "from sklearn.ensemble import RandomForestRegressor\n"
   ]
  },
  {
   "cell_type": "code",
   "execution_count": 2,
   "id": "d61dd9d7",
   "metadata": {},
   "outputs": [
    {
     "data": {
      "text/plain": [
       "(4257, 49)"
      ]
     },
     "execution_count": 2,
     "metadata": {},
     "output_type": "execute_result"
    }
   ],
   "source": [
    "df= pd.read_csv('tcga_dataset.csv')\n",
    "df.shape"
   ]
  },
  {
   "cell_type": "code",
   "execution_count": 3,
   "id": "601588ea",
   "metadata": {},
   "outputs": [
    {
     "data": {
      "text/plain": [
       "downstream_exon_count      0\n",
       "last_exon                  0\n",
       "PTC_to_start_codon         0\n",
       "dist_to_stop_codon         0\n",
       "PTC_exon_length            0\n",
       "PTC_to_intron              0\n",
       "upstream_exon_count        0\n",
       "mRNA_half_life             0\n",
       "50nt_to_last_EJ            0\n",
       "LOEUF                    130\n",
       "AF                         0\n",
       "5UTR_length                0\n",
       "3UTR_length                0\n",
       "Transcript_length          0\n",
       "dtype: int64"
      ]
     },
     "execution_count": 3,
     "metadata": {},
     "output_type": "execute_result"
    }
   ],
   "source": [
    "cols = ['downstream_exon_count', 'last_exon', 'PTC_to_start_codon',\n",
    "        'dist_to_stop_codon', 'PTC_exon_length', 'PTC_to_intron','upstream_exon_count',\n",
    "        'mRNA_half_life','50nt_to_last_EJ','LOEUF', 'AF', '5UTR_length', '3UTR_length', 'Transcript_length']\n",
    "\n",
    "df[cols].isnull().sum()"
   ]
  },
  {
   "cell_type": "code",
   "execution_count": 4,
   "id": "5f1c465f",
   "metadata": {},
   "outputs": [
    {
     "data": {
      "text/plain": [
       "(4127, 49)"
      ]
     },
     "execution_count": 4,
     "metadata": {},
     "output_type": "execute_result"
    }
   ],
   "source": [
    "df = df.loc[df['LOEUF'].notnull()].reset_index(drop=True)\n",
    "df.shape"
   ]
  },
  {
   "cell_type": "code",
   "execution_count": 5,
   "id": "bf414e07",
   "metadata": {},
   "outputs": [
    {
     "data": {
      "text/html": [
       "<div>\n",
       "<style scoped>\n",
       "    .dataframe tbody tr th:only-of-type {\n",
       "        vertical-align: middle;\n",
       "    }\n",
       "\n",
       "    .dataframe tbody tr th {\n",
       "        vertical-align: top;\n",
       "    }\n",
       "\n",
       "    .dataframe thead th {\n",
       "        text-align: right;\n",
       "    }\n",
       "</style>\n",
       "<table border=\"1\" class=\"dataframe\">\n",
       "  <thead>\n",
       "    <tr style=\"text-align: right;\">\n",
       "      <th></th>\n",
       "      <th>Cancer_type</th>\n",
       "      <th>Cancer_type_count</th>\n",
       "      <th>NMF_cluster</th>\n",
       "      <th>build</th>\n",
       "      <th>chromosome</th>\n",
       "      <th>start</th>\n",
       "      <th>end</th>\n",
       "      <th>Hugo_Symbol</th>\n",
       "      <th>Transcript_ID</th>\n",
       "      <th>HGVSc</th>\n",
       "      <th>...</th>\n",
       "      <th>depth_RNA</th>\n",
       "      <th>VAF_DNA_RNA_ratio</th>\n",
       "      <th>NMD_efficiency</th>\n",
       "      <th>AF</th>\n",
       "      <th>AF Group</th>\n",
       "      <th>LOEUF</th>\n",
       "      <th>LOEUF_bin</th>\n",
       "      <th>5UTR_length</th>\n",
       "      <th>3UTR_length</th>\n",
       "      <th>Transcript_length</th>\n",
       "    </tr>\n",
       "  </thead>\n",
       "  <tbody>\n",
       "    <tr>\n",
       "      <th>0</th>\n",
       "      <td>ACC</td>\n",
       "      <td>12</td>\n",
       "      <td>1</td>\n",
       "      <td>GRCh38</td>\n",
       "      <td>chr12</td>\n",
       "      <td>98546362</td>\n",
       "      <td>98546362</td>\n",
       "      <td>TMPO</td>\n",
       "      <td>ENST00000556029</td>\n",
       "      <td>c.994G&gt;T</td>\n",
       "      <td>...</td>\n",
       "      <td>44.0</td>\n",
       "      <td>0.528592</td>\n",
       "      <td>0.919772</td>\n",
       "      <td>0.0</td>\n",
       "      <td>[0]</td>\n",
       "      <td>0.737</td>\n",
       "      <td>3.0</td>\n",
       "      <td>356</td>\n",
       "      <td>370</td>\n",
       "      <td>1722</td>\n",
       "    </tr>\n",
       "  </tbody>\n",
       "</table>\n",
       "<p>1 rows × 49 columns</p>\n",
       "</div>"
      ],
      "text/plain": [
       "  Cancer_type  Cancer_type_count  NMF_cluster   build chromosome     start  \\\n",
       "0         ACC                 12            1  GRCh38      chr12  98546362   \n",
       "\n",
       "        end Hugo_Symbol    Transcript_ID     HGVSc  ... depth_RNA  \\\n",
       "0  98546362        TMPO  ENST00000556029  c.994G>T  ...      44.0   \n",
       "\n",
       "   VAF_DNA_RNA_ratio  NMD_efficiency   AF  AF Group  LOEUF  LOEUF_bin  \\\n",
       "0           0.528592        0.919772  0.0       [0]  0.737        3.0   \n",
       "\n",
       "   5UTR_length  3UTR_length  Transcript_length  \n",
       "0          356          370               1722  \n",
       "\n",
       "[1 rows x 49 columns]"
      ]
     },
     "execution_count": 5,
     "metadata": {},
     "output_type": "execute_result"
    }
   ],
   "source": [
    "df.head(1)"
   ]
  },
  {
   "cell_type": "markdown",
   "id": "524644d7",
   "metadata": {},
   "source": [
    "### Correlation analysis"
   ]
  },
  {
   "cell_type": "code",
   "execution_count": 6,
   "id": "12934cef",
   "metadata": {},
   "outputs": [],
   "source": [
    "crr = [];pvalue = []\n",
    "for c in cols:\n",
    "    c, p = stats.pearsonr(df[c], df['NMD_efficiency'])\n",
    "    crr.append(c); pvalue.append(p)"
   ]
  },
  {
   "cell_type": "code",
   "execution_count": 7,
   "id": "e156faff",
   "metadata": {},
   "outputs": [
    {
     "data": {
      "text/html": [
       "<div>\n",
       "<style scoped>\n",
       "    .dataframe tbody tr th:only-of-type {\n",
       "        vertical-align: middle;\n",
       "    }\n",
       "\n",
       "    .dataframe tbody tr th {\n",
       "        vertical-align: top;\n",
       "    }\n",
       "\n",
       "    .dataframe thead th {\n",
       "        text-align: right;\n",
       "    }\n",
       "</style>\n",
       "<table border=\"1\" class=\"dataframe\">\n",
       "  <thead>\n",
       "    <tr style=\"text-align: right;\">\n",
       "      <th></th>\n",
       "      <th>name</th>\n",
       "      <th>corr</th>\n",
       "      <th>p-value</th>\n",
       "    </tr>\n",
       "  </thead>\n",
       "  <tbody>\n",
       "    <tr>\n",
       "      <th>0</th>\n",
       "      <td>downstream_exon_count</td>\n",
       "      <td>0.258525</td>\n",
       "      <td>5.238859e-64</td>\n",
       "    </tr>\n",
       "    <tr>\n",
       "      <th>1</th>\n",
       "      <td>last_exon</td>\n",
       "      <td>-0.478237</td>\n",
       "      <td>6.316311e-235</td>\n",
       "    </tr>\n",
       "    <tr>\n",
       "      <th>2</th>\n",
       "      <td>PTC_to_start_codon</td>\n",
       "      <td>-0.076805</td>\n",
       "      <td>7.817535e-07</td>\n",
       "    </tr>\n",
       "    <tr>\n",
       "      <th>3</th>\n",
       "      <td>dist_to_stop_codon</td>\n",
       "      <td>0.090351</td>\n",
       "      <td>6.083344e-09</td>\n",
       "    </tr>\n",
       "    <tr>\n",
       "      <th>4</th>\n",
       "      <td>PTC_exon_length</td>\n",
       "      <td>-0.180007</td>\n",
       "      <td>2.143971e-31</td>\n",
       "    </tr>\n",
       "    <tr>\n",
       "      <th>5</th>\n",
       "      <td>PTC_to_intron</td>\n",
       "      <td>-0.171502</td>\n",
       "      <td>1.303514e-28</td>\n",
       "    </tr>\n",
       "    <tr>\n",
       "      <th>6</th>\n",
       "      <td>upstream_exon_count</td>\n",
       "      <td>0.012724</td>\n",
       "      <td>4.138306e-01</td>\n",
       "    </tr>\n",
       "    <tr>\n",
       "      <th>7</th>\n",
       "      <td>mRNA_half_life</td>\n",
       "      <td>0.124783</td>\n",
       "      <td>8.602908e-16</td>\n",
       "    </tr>\n",
       "    <tr>\n",
       "      <th>8</th>\n",
       "      <td>50nt_to_last_EJ</td>\n",
       "      <td>-0.174488</td>\n",
       "      <td>1.424919e-29</td>\n",
       "    </tr>\n",
       "    <tr>\n",
       "      <th>9</th>\n",
       "      <td>LOEUF</td>\n",
       "      <td>-0.123524</td>\n",
       "      <td>1.672111e-15</td>\n",
       "    </tr>\n",
       "    <tr>\n",
       "      <th>10</th>\n",
       "      <td>AF</td>\n",
       "      <td>0.029558</td>\n",
       "      <td>5.760822e-02</td>\n",
       "    </tr>\n",
       "    <tr>\n",
       "      <th>11</th>\n",
       "      <td>5UTR_length</td>\n",
       "      <td>-0.072539</td>\n",
       "      <td>3.089579e-06</td>\n",
       "    </tr>\n",
       "    <tr>\n",
       "      <th>12</th>\n",
       "      <td>3UTR_length</td>\n",
       "      <td>0.095832</td>\n",
       "      <td>6.884406e-10</td>\n",
       "    </tr>\n",
       "    <tr>\n",
       "      <th>13</th>\n",
       "      <td>Transcript_length</td>\n",
       "      <td>-0.019358</td>\n",
       "      <td>2.137547e-01</td>\n",
       "    </tr>\n",
       "  </tbody>\n",
       "</table>\n",
       "</div>"
      ],
      "text/plain": [
       "                     name      corr        p-value\n",
       "0   downstream_exon_count  0.258525   5.238859e-64\n",
       "1               last_exon -0.478237  6.316311e-235\n",
       "2      PTC_to_start_codon -0.076805   7.817535e-07\n",
       "3      dist_to_stop_codon  0.090351   6.083344e-09\n",
       "4         PTC_exon_length -0.180007   2.143971e-31\n",
       "5           PTC_to_intron -0.171502   1.303514e-28\n",
       "6     upstream_exon_count  0.012724   4.138306e-01\n",
       "7          mRNA_half_life  0.124783   8.602908e-16\n",
       "8         50nt_to_last_EJ -0.174488   1.424919e-29\n",
       "9                   LOEUF -0.123524   1.672111e-15\n",
       "10                     AF  0.029558   5.760822e-02\n",
       "11            5UTR_length -0.072539   3.089579e-06\n",
       "12            3UTR_length  0.095832   6.884406e-10\n",
       "13      Transcript_length -0.019358   2.137547e-01"
      ]
     },
     "execution_count": 7,
     "metadata": {},
     "output_type": "execute_result"
    }
   ],
   "source": [
    "pd.DataFrame({'name':cols,'corr': crr, 'p-value':pvalue})#.to_csv('tmp.csv')"
   ]
  },
  {
   "cell_type": "markdown",
   "id": "4e4f4061",
   "metadata": {},
   "source": [
    "### Overall performance using cross-validation"
   ]
  },
  {
   "cell_type": "code",
   "execution_count": 8,
   "id": "98250ae1",
   "metadata": {},
   "outputs": [
    {
     "data": {
      "text/plain": [
       "0.4373697587087708"
      ]
     },
     "execution_count": 8,
     "metadata": {},
     "output_type": "execute_result"
    }
   ],
   "source": [
    "regr = RandomForestRegressor(max_features = 3,n_estimators=10000, n_jobs=-1)\n",
    "scores = cross_val_score(regr, df[cols], df['NMD_efficiency'], cv=5)\n",
    "np.mean(scores)"
   ]
  },
  {
   "cell_type": "markdown",
   "id": "532c89b1",
   "metadata": {},
   "source": [
    "### Feature importance upon random forest regressor"
   ]
  },
  {
   "cell_type": "code",
   "execution_count": 10,
   "id": "e4c0615a",
   "metadata": {},
   "outputs": [
    {
     "data": {
      "text/plain": [
       "0.45930321592201606"
      ]
     },
     "execution_count": 10,
     "metadata": {},
     "output_type": "execute_result"
    }
   ],
   "source": [
    "regr = RandomForestRegressor(max_features = 3,n_estimators=10000, n_jobs=-1)\n",
    "\n",
    "X = df[cols]\n",
    "y = df['NMD_efficiency']\n",
    "X_train, X_test, y_train, y_test = train_test_split(\n",
    "    X, y, test_size=0.2, random_state=0)\n",
    "regr.fit(X_train, y_train)\n",
    "regr.score(X_test, y_test)"
   ]
  },
  {
   "cell_type": "code",
   "execution_count": 11,
   "id": "e01d7296",
   "metadata": {},
   "outputs": [
    {
     "data": {
      "text/html": [
       "<div>\n",
       "<style scoped>\n",
       "    .dataframe tbody tr th:only-of-type {\n",
       "        vertical-align: middle;\n",
       "    }\n",
       "\n",
       "    .dataframe tbody tr th {\n",
       "        vertical-align: top;\n",
       "    }\n",
       "\n",
       "    .dataframe thead th {\n",
       "        text-align: right;\n",
       "    }\n",
       "</style>\n",
       "<table border=\"1\" class=\"dataframe\">\n",
       "  <thead>\n",
       "    <tr style=\"text-align: right;\">\n",
       "      <th></th>\n",
       "      <th>feature</th>\n",
       "      <th>importance</th>\n",
       "    </tr>\n",
       "  </thead>\n",
       "  <tbody>\n",
       "    <tr>\n",
       "      <th>0</th>\n",
       "      <td>downstream_exon_count</td>\n",
       "      <td>0.133673</td>\n",
       "    </tr>\n",
       "    <tr>\n",
       "      <th>1</th>\n",
       "      <td>last_exon</td>\n",
       "      <td>0.079472</td>\n",
       "    </tr>\n",
       "    <tr>\n",
       "      <th>2</th>\n",
       "      <td>PTC_to_start_codon</td>\n",
       "      <td>0.093779</td>\n",
       "    </tr>\n",
       "    <tr>\n",
       "      <th>3</th>\n",
       "      <td>dist_to_stop_codon</td>\n",
       "      <td>0.083282</td>\n",
       "    </tr>\n",
       "    <tr>\n",
       "      <th>4</th>\n",
       "      <td>PTC_exon_length</td>\n",
       "      <td>0.090600</td>\n",
       "    </tr>\n",
       "    <tr>\n",
       "      <th>5</th>\n",
       "      <td>PTC_to_intron</td>\n",
       "      <td>0.085233</td>\n",
       "    </tr>\n",
       "    <tr>\n",
       "      <th>6</th>\n",
       "      <td>upstream_exon_count</td>\n",
       "      <td>0.050848</td>\n",
       "    </tr>\n",
       "    <tr>\n",
       "      <th>7</th>\n",
       "      <td>mRNA_half_life</td>\n",
       "      <td>0.060456</td>\n",
       "    </tr>\n",
       "    <tr>\n",
       "      <th>8</th>\n",
       "      <td>50nt_to_last_EJ</td>\n",
       "      <td>0.019892</td>\n",
       "    </tr>\n",
       "    <tr>\n",
       "      <th>9</th>\n",
       "      <td>LOEUF</td>\n",
       "      <td>0.065102</td>\n",
       "    </tr>\n",
       "    <tr>\n",
       "      <th>10</th>\n",
       "      <td>AF</td>\n",
       "      <td>0.025427</td>\n",
       "    </tr>\n",
       "    <tr>\n",
       "      <th>11</th>\n",
       "      <td>5UTR_length</td>\n",
       "      <td>0.060004</td>\n",
       "    </tr>\n",
       "    <tr>\n",
       "      <th>12</th>\n",
       "      <td>3UTR_length</td>\n",
       "      <td>0.088630</td>\n",
       "    </tr>\n",
       "    <tr>\n",
       "      <th>13</th>\n",
       "      <td>Transcript_length</td>\n",
       "      <td>0.063602</td>\n",
       "    </tr>\n",
       "  </tbody>\n",
       "</table>\n",
       "</div>"
      ],
      "text/plain": [
       "                  feature  importance\n",
       "0   downstream_exon_count    0.133673\n",
       "1               last_exon    0.079472\n",
       "2      PTC_to_start_codon    0.093779\n",
       "3      dist_to_stop_codon    0.083282\n",
       "4         PTC_exon_length    0.090600\n",
       "5           PTC_to_intron    0.085233\n",
       "6     upstream_exon_count    0.050848\n",
       "7          mRNA_half_life    0.060456\n",
       "8         50nt_to_last_EJ    0.019892\n",
       "9                   LOEUF    0.065102\n",
       "10                     AF    0.025427\n",
       "11            5UTR_length    0.060004\n",
       "12            3UTR_length    0.088630\n",
       "13      Transcript_length    0.063602"
      ]
     },
     "execution_count": 11,
     "metadata": {},
     "output_type": "execute_result"
    }
   ],
   "source": [
    "importance_df = pd.DataFrame({'feature':regr.feature_names_in_, \n",
    "                              'importance': regr.feature_importances_})\n",
    "\n",
    "importance_df "
   ]
  }
 ],
 "metadata": {
  "kernelspec": {
   "display_name": "Python 3 (ipykernel)",
   "language": "python",
   "name": "python3"
  },
  "language_info": {
   "codemirror_mode": {
    "name": "ipython",
    "version": 3
   },
   "file_extension": ".py",
   "mimetype": "text/x-python",
   "name": "python",
   "nbconvert_exporter": "python",
   "pygments_lexer": "ipython3",
   "version": "3.9.13"
  }
 },
 "nbformat": 4,
 "nbformat_minor": 5
}
