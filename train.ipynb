{
 "cells": [
  {
   "cell_type": "markdown",
   "id": "f5cfd7b6",
   "metadata": {},
   "source": [
    "### Train NMD efficiency Predictor upon RandomForestRegressor"
   ]
  },
  {
   "cell_type": "code",
   "execution_count": 1,
   "id": "f9e9493f",
   "metadata": {},
   "outputs": [],
   "source": [
    "import pickle\n",
    "import pandas as pd\n",
    "import numpy as np\n",
    "from sklearn.model_selection import cross_val_score\n",
    "from sklearn.model_selection import train_test_split\n",
    "from sklearn.ensemble import RandomForestRegressor"
   ]
  },
  {
   "cell_type": "code",
   "execution_count": 2,
   "id": "abd82357",
   "metadata": {},
   "outputs": [
    {
     "data": {
      "text/plain": [
       "(4257, 49)"
      ]
     },
     "execution_count": 2,
     "metadata": {},
     "output_type": "execute_result"
    }
   ],
   "source": [
    "# load dataset\n",
    "df= pd.read_csv('tcga_dataset.csv')\n",
    "df.shape"
   ]
  },
  {
   "cell_type": "code",
   "execution_count": 3,
   "id": "0582a514",
   "metadata": {},
   "outputs": [
    {
     "data": {
      "text/html": [
       "<div>\n",
       "<style scoped>\n",
       "    .dataframe tbody tr th:only-of-type {\n",
       "        vertical-align: middle;\n",
       "    }\n",
       "\n",
       "    .dataframe tbody tr th {\n",
       "        vertical-align: top;\n",
       "    }\n",
       "\n",
       "    .dataframe thead th {\n",
       "        text-align: right;\n",
       "    }\n",
       "</style>\n",
       "<table border=\"1\" class=\"dataframe\">\n",
       "  <thead>\n",
       "    <tr style=\"text-align: right;\">\n",
       "      <th></th>\n",
       "      <th>downstream_exon_count</th>\n",
       "      <th>last_exon</th>\n",
       "      <th>PTC_to_start_codon</th>\n",
       "      <th>dist_to_stop_codon</th>\n",
       "      <th>PTC_exon_length</th>\n",
       "      <th>PTC_to_intron</th>\n",
       "      <th>upstream_exon_count</th>\n",
       "      <th>mRNA_half_life</th>\n",
       "      <th>50nt_to_last_EJ</th>\n",
       "      <th>LOEUF</th>\n",
       "      <th>AF</th>\n",
       "      <th>5UTR_length</th>\n",
       "      <th>3UTR_length</th>\n",
       "      <th>Transcript_length</th>\n",
       "    </tr>\n",
       "  </thead>\n",
       "  <tbody>\n",
       "    <tr>\n",
       "      <th>0</th>\n",
       "      <td>1</td>\n",
       "      <td>0</td>\n",
       "      <td>996</td>\n",
       "      <td>369</td>\n",
       "      <td>89</td>\n",
       "      <td>84</td>\n",
       "      <td>7</td>\n",
       "      <td>592.689818</td>\n",
       "      <td>0</td>\n",
       "      <td>0.737</td>\n",
       "      <td>0.0</td>\n",
       "      <td>356</td>\n",
       "      <td>370</td>\n",
       "      <td>1722</td>\n",
       "    </tr>\n",
       "  </tbody>\n",
       "</table>\n",
       "</div>"
      ],
      "text/plain": [
       "   downstream_exon_count  last_exon  PTC_to_start_codon  dist_to_stop_codon  \\\n",
       "0                      1          0                 996                 369   \n",
       "\n",
       "   PTC_exon_length  PTC_to_intron  upstream_exon_count  mRNA_half_life  \\\n",
       "0               89             84                    7      592.689818   \n",
       "\n",
       "   50nt_to_last_EJ  LOEUF   AF  5UTR_length  3UTR_length  Transcript_length  \n",
       "0                0  0.737  0.0          356          370               1722  "
      ]
     },
     "execution_count": 3,
     "metadata": {},
     "output_type": "execute_result"
    }
   ],
   "source": [
    "'''\n",
    "Description of columns\n",
    "        downstream_exon_count (as Downstream exon count): The number of exons downstream of the PTC\n",
    "        last_exon (as Last exon): 1 if the PTC is located on the last exon; 0 otherwise\n",
    "        PTC_to_start_codon (as Dist PTC to start codon): The distance between the PTC to start codon\n",
    "        dist_to_stop_codon (as Dist PTC to normal stop codon): The distance between the PTC and normal stop codon\n",
    "        PTC_exon_length (as PTC-containing exon length): The length of the PTC-containing exon\n",
    "        PTC_to_intron (as Dist PTC to downstream EJ): The distance between the PTC and downstream exon junction\n",
    "        upstream_exon_count (as Upstream exon count): The number of exons upstream of the PTC\n",
    "        mRNA_half_life (as mRNA half-life): The half-life of mRNA\n",
    "        50nt_to_last_EJ (as Last 50nt penultimate exon): 1 if the PTC is located on the last exon; 0 otherwise\n",
    "        LOEUF (as LOEUF): Gene-level degree of mutational constraints\n",
    "        AF: (as Allele frequency): Allele frequency in gnomAD database\n",
    "        5UTR_length: (as 5'UTR length) : The length of 5'UTR\n",
    "        3UTR_length: (as 3'UTR length) : The length of 3'UTR\n",
    "        Transcript_length: (as Transcript length) : The length of the transcript\n",
    "'''\n",
    "\n",
    "# we expect to match names of columns to your datasets\n",
    "cols = ['downstream_exon_count', 'last_exon', 'PTC_to_start_codon',\n",
    "        'dist_to_stop_codon', 'PTC_exon_length', 'PTC_to_intron','upstream_exon_count',\n",
    "        'mRNA_half_life','50nt_to_last_EJ','LOEUF', 'AF', '5UTR_length', '3UTR_length', 'Transcript_length']\n",
    "\n",
    "df[cols].head(1)"
   ]
  },
  {
   "cell_type": "code",
   "execution_count": 4,
   "id": "d6b17fe6",
   "metadata": {},
   "outputs": [
    {
     "data": {
      "text/plain": [
       "downstream_exon_count      0\n",
       "last_exon                  0\n",
       "PTC_to_start_codon         0\n",
       "dist_to_stop_codon         0\n",
       "PTC_exon_length            0\n",
       "PTC_to_intron              0\n",
       "upstream_exon_count        0\n",
       "mRNA_half_life             0\n",
       "50nt_to_last_EJ            0\n",
       "LOEUF                    130\n",
       "AF                         0\n",
       "5UTR_length                0\n",
       "3UTR_length                0\n",
       "Transcript_length          0\n",
       "dtype: int64"
      ]
     },
     "execution_count": 4,
     "metadata": {},
     "output_type": "execute_result"
    }
   ],
   "source": [
    "df[cols].isnull().sum()"
   ]
  },
  {
   "cell_type": "code",
   "execution_count": 5,
   "id": "fff76cab",
   "metadata": {},
   "outputs": [
    {
     "data": {
      "text/plain": [
       "(4127, 49)"
      ]
     },
     "execution_count": 5,
     "metadata": {},
     "output_type": "execute_result"
    }
   ],
   "source": [
    "df = df.loc[df['LOEUF'].notnull()].reset_index(drop=True)\n",
    "df.shape"
   ]
  },
  {
   "cell_type": "code",
   "execution_count": 6,
   "id": "55a4c6ce",
   "metadata": {},
   "outputs": [],
   "source": [
    "regr = RandomForestRegressor(max_features = 3, n_estimators=10000, n_jobs=-1)"
   ]
  },
  {
   "cell_type": "code",
   "execution_count": 7,
   "id": "dbac3093",
   "metadata": {},
   "outputs": [
    {
     "name": "stdout",
     "output_type": "stream",
     "text": [
      "r2: 0.437274, std: 0.069419\n"
     ]
    }
   ],
   "source": [
    "# applying cross-valiation method for evaluation\n",
    "scores = cross_val_score(regr, df[cols], df['NMD_efficiency'], cv=5)\n",
    "print(f'r2: {np.mean(scores):5f}, std: {np.std(scores):5f}')"
   ]
  },
  {
   "cell_type": "code",
   "execution_count": 8,
   "id": "dd5ed00b",
   "metadata": {},
   "outputs": [],
   "source": [
    "X = df[cols]\n",
    "y = df['NMD_efficiency']\n",
    "X_train, X_test, y_train, y_test = train_test_split(\n",
    "    X, y, test_size=0.2, random_state=0)"
   ]
  },
  {
   "cell_type": "code",
   "execution_count": 9,
   "id": "4e2e1f1a",
   "metadata": {},
   "outputs": [
    {
     "name": "stdout",
     "output_type": "stream",
     "text": [
      "r2: 0.459689\n"
     ]
    }
   ],
   "source": [
    "regr.fit(X_train, y_train)\n",
    "regr.score(X_test, y_test)\n",
    "print(f'r2: {regr.score(X_test, y_test):5f}')"
   ]
  },
  {
   "cell_type": "markdown",
   "id": "1446ad26",
   "metadata": {},
   "source": [
    "### Importance of trained randomforest regressor"
   ]
  },
  {
   "cell_type": "code",
   "execution_count": 10,
   "id": "65bfbdef",
   "metadata": {},
   "outputs": [
    {
     "data": {
      "text/html": [
       "<div>\n",
       "<style scoped>\n",
       "    .dataframe tbody tr th:only-of-type {\n",
       "        vertical-align: middle;\n",
       "    }\n",
       "\n",
       "    .dataframe tbody tr th {\n",
       "        vertical-align: top;\n",
       "    }\n",
       "\n",
       "    .dataframe thead th {\n",
       "        text-align: right;\n",
       "    }\n",
       "</style>\n",
       "<table border=\"1\" class=\"dataframe\">\n",
       "  <thead>\n",
       "    <tr style=\"text-align: right;\">\n",
       "      <th></th>\n",
       "      <th>feature</th>\n",
       "      <th>importance</th>\n",
       "    </tr>\n",
       "  </thead>\n",
       "  <tbody>\n",
       "    <tr>\n",
       "      <th>0</th>\n",
       "      <td>downstream_exon_count</td>\n",
       "      <td>0.134166</td>\n",
       "    </tr>\n",
       "    <tr>\n",
       "      <th>1</th>\n",
       "      <td>last_exon</td>\n",
       "      <td>0.079576</td>\n",
       "    </tr>\n",
       "    <tr>\n",
       "      <th>2</th>\n",
       "      <td>PTC_to_start_codon</td>\n",
       "      <td>0.093868</td>\n",
       "    </tr>\n",
       "    <tr>\n",
       "      <th>3</th>\n",
       "      <td>dist_to_stop_codon</td>\n",
       "      <td>0.083519</td>\n",
       "    </tr>\n",
       "    <tr>\n",
       "      <th>4</th>\n",
       "      <td>PTC_exon_length</td>\n",
       "      <td>0.090316</td>\n",
       "    </tr>\n",
       "    <tr>\n",
       "      <th>5</th>\n",
       "      <td>PTC_to_intron</td>\n",
       "      <td>0.085420</td>\n",
       "    </tr>\n",
       "    <tr>\n",
       "      <th>6</th>\n",
       "      <td>upstream_exon_count</td>\n",
       "      <td>0.050611</td>\n",
       "    </tr>\n",
       "    <tr>\n",
       "      <th>7</th>\n",
       "      <td>mRNA_half_life</td>\n",
       "      <td>0.060460</td>\n",
       "    </tr>\n",
       "    <tr>\n",
       "      <th>8</th>\n",
       "      <td>50nt_to_last_EJ</td>\n",
       "      <td>0.020069</td>\n",
       "    </tr>\n",
       "    <tr>\n",
       "      <th>9</th>\n",
       "      <td>LOEUF</td>\n",
       "      <td>0.065284</td>\n",
       "    </tr>\n",
       "    <tr>\n",
       "      <th>10</th>\n",
       "      <td>AF</td>\n",
       "      <td>0.025420</td>\n",
       "    </tr>\n",
       "    <tr>\n",
       "      <th>11</th>\n",
       "      <td>5UTR_length</td>\n",
       "      <td>0.060130</td>\n",
       "    </tr>\n",
       "    <tr>\n",
       "      <th>12</th>\n",
       "      <td>3UTR_length</td>\n",
       "      <td>0.087406</td>\n",
       "    </tr>\n",
       "    <tr>\n",
       "      <th>13</th>\n",
       "      <td>Transcript_length</td>\n",
       "      <td>0.063754</td>\n",
       "    </tr>\n",
       "  </tbody>\n",
       "</table>\n",
       "</div>"
      ],
      "text/plain": [
       "                  feature  importance\n",
       "0   downstream_exon_count    0.134166\n",
       "1               last_exon    0.079576\n",
       "2      PTC_to_start_codon    0.093868\n",
       "3      dist_to_stop_codon    0.083519\n",
       "4         PTC_exon_length    0.090316\n",
       "5           PTC_to_intron    0.085420\n",
       "6     upstream_exon_count    0.050611\n",
       "7          mRNA_half_life    0.060460\n",
       "8         50nt_to_last_EJ    0.020069\n",
       "9                   LOEUF    0.065284\n",
       "10                     AF    0.025420\n",
       "11            5UTR_length    0.060130\n",
       "12            3UTR_length    0.087406\n",
       "13      Transcript_length    0.063754"
      ]
     },
     "execution_count": 10,
     "metadata": {},
     "output_type": "execute_result"
    }
   ],
   "source": [
    "importance_df = pd.DataFrame({'feature':regr.feature_names_in_, \n",
    "                              'importance': regr.feature_importances_})\n",
    "\n",
    "importance_df "
   ]
  },
  {
   "cell_type": "code",
   "execution_count": 11,
   "id": "6c5d5aac",
   "metadata": {},
   "outputs": [],
   "source": [
    "# Save the trained model\n",
    "pickle.dump(regr, open('nmd_eff_predictor', 'wb'))"
   ]
  }
 ],
 "metadata": {
  "kernelspec": {
   "display_name": "Python 3 (ipykernel)",
   "language": "python",
   "name": "python3"
  },
  "language_info": {
   "codemirror_mode": {
    "name": "ipython",
    "version": 3
   },
   "file_extension": ".py",
   "mimetype": "text/x-python",
   "name": "python",
   "nbconvert_exporter": "python",
   "pygments_lexer": "ipython3",
   "version": "3.9.13"
  }
 },
 "nbformat": 4,
 "nbformat_minor": 5
}
